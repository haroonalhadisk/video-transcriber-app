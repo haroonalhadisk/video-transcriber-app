{
  "cells": [
    {
      "cell_type": "markdown",
      "metadata": {
        "id": "view-in-github"
      },
      "source": [
        "# Video Transcriber - Google Colab\n",
        "\n",
        "This notebook allows you to run the Video Transcriber application with a web interface in Google Colab.\n",
        "\n",
        "## Features\n",
        "- Transcribe videos using OpenAI's Whisper speech recognition model\n",
        "- Process batches of videos\n",
        "- Download videos from Instagram\n",
        "- Process transcripts with Groq AI\n",
        "- Save transcriptions to Notion\n",
        "\n",
        "Let's get started!"
      ]
    },
    {
      "cell_type": "markdown",
      "metadata": {},
      "source": [
        "## Step 1: Mount Google Drive (Optional)\n",
        "\n",
        "Mount your Google Drive to save transcriptions and access files. This step is optional but recommended for file persistence."
      ]
    },
    {
      "cell_type": "code",
      "execution_count": null,
      "metadata": {},
      "outputs": [],
      "source": [
        "from google.colab import drive\n",
        "drive.mount('/content/drive')"
      ]
    },
    {
      "cell_type": "markdown",
      "metadata": {},
      "source": [
        "## Step 2: Install Dependencies\n",
        "\n",
        "Install the required packages and FFmpeg."
      ]
    },
    {
      "cell_type": "code",
      "execution_count": null,
      "metadata": {},
      "outputs": [],
      "source": [
        "# Install FFmpeg\n",
        "!apt-get update\n",
        "!apt-get install -y ffmpeg\n",
        "\n",
        "# Install Python packages\n",
        "!pip install torch openai-whisper requests gradio instaloader browser_cookie3"
      ]
    },
    {
      "cell_type": "markdown",
      "metadata": {},
      "source": [
        "## Step 3: Get the Video Transcriber Code\n",
        "\n",
        "You can either clone the repository from GitHub or upload the files manually to Colab."
      ]
    },
    {
      "cell_type": "code",
      "execution_count": null,
      "metadata": {},
      "outputs": [],
      "source": [
        "# Option 1: Clone from GitHub\n",
        "# !git clone https://github.com/your-username/video-transcriber.git\n",
        "# %cd video-transcriber\n",
        "\n",
        "# Option 2: If you've uploaded the files manually, make sure you're in the right directory\n",
        "%cd /content"
      ]
    },
    {
      "cell_type": "markdown",
      "metadata": {},
      "source": [
        "## Step 4: Upload the Application Files\n",
        "\n",
        "If you didn't clone from GitHub, upload the necessary files to Colab. You need at least:\n",
        "- main.py\n",
        "- web_ui.py\n",
        "- notion_integration.py\n",
        "- groq_integration.py\n",
        "- instaloader_integration.py\n",
        "\n",
        "You can use the file upload button in the left sidebar of Colab."
      ]
    },
    {
      "cell_type": "markdown",
      "metadata": {},
      "source": [
        "## Step 5: Run the Web Interface\n",
        "\n",
        "Launch the application in web mode. This will start a Gradio server and provide a public URL."
      ]
    },
    {
      "cell_type": "code",
      "execution_count": null,
      "metadata": {},
      "outputs": [],
      "source": [
        "!python main.py --web"
      ]
    },
    {
      "cell_type": "markdown",
      "metadata": {},
      "source": [
        "## Additional Tips\n",
        "\n",
        "### Prevent Colab from Disconnecting\n",
        "\n",
        "If you're processing long videos, you might want to prevent Colab from disconnecting due to inactivity."
      ]
    },
    {
      "cell_type": "code",
      "execution_count": null,
      "metadata": {},
      "outputs": [],
      "source": [
        "# Prevent Colab from disconnecting (run in a separate cell)\n",
        "from IPython.display import display, Javascript\n",
        "display(Javascript('''\n",
        "function ClickConnect(){\n",
        "  console.log(\"Working\");\n",
        "  document.querySelector(\"colab-connect-button\").click()\n",
        "}\n",
        "setInterval(ClickConnect, 60000)\n",
        "'''))"
      ]
    },
    {
      "cell_type": "markdown",
      "metadata": {},
      "source": [
        "### Save Files to Google Drive\n",
        "\n",
        "If you mounted Google Drive, you can specify a directory in your drive for outputs."
      ]
    },
    {
      "cell_type": "code",
      "execution_count": null,
      "metadata": {},
      "outputs": [],
      "source": [
        "# Create a directory in your Google Drive for transcriptions\n",
        "!mkdir -p /content/drive/MyDrive/VideoTranscriber\n",
        "print(\"Use this directory in the web interface: /content/drive/MyDrive/VideoTranscriber\")"
      ]
    },
    {
      "cell_type": "markdown",
      "metadata": {},
      "source": [
        "## Troubleshooting\n",
        "\n",
        "If you encounter issues:\n",
        "\n",
        "1. Check that all required packages are installed\n",
        "2. Verify that FFmpeg is installed correctly\n",
        "3. Ensure all application files are in the same directory\n",
        "4. For memory errors, try using a smaller Whisper model\n",
        "5. For Instagram issues, try username/password login instead of browser cookies"
      ]
    }
  ],
  "metadata": {
    "colab": {
      "provenance": []
    },
    "kernelspec": {
      "display_name": "Python 3",
      "name": "python3"
    },
    "language_info": {
      "name": "python"
    }
  },
  "nbformat": 4,
  "nbformat_minor": 0
}